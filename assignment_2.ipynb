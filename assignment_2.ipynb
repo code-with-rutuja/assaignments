{
 "cells": [
  {
   "cell_type": "markdown",
   "id": "9ab7acb3",
   "metadata": {},
   "source": [
    "# Python Assignment - 2\n",
    "### Carries - 30 marks"
   ]
  },
  {
   "cell_type": "markdown",
   "id": "d4122e1a",
   "metadata": {},
   "source": [
    "## What is List? How will you reverse a list?"
   ]
  },
  {
   "cell_type": "code",
   "execution_count": null,
   "id": "ef44f9e9",
   "metadata": {},
   "outputs": [],
   "source": [
    "#an ordered and changeable collection of data objects known as the list.\n",
    "#following are methods to reverse a list:\n",
    "#using reverse() method\n",
    "my_list.reverse\n",
    "#using reversed(method)\n",
    "reversed(my_list)"
   ]
  },
  {
   "cell_type": "code",
   "execution_count": 1,
   "id": "1865efd7",
   "metadata": {},
   "outputs": [
    {
     "name": "stdout",
     "output_type": "stream",
     "text": [
      "[5, 4, 3, 2, 1]\n"
     ]
    }
   ],
   "source": [
    "my_numbers = [1, 2, 3, 4, 5]\n",
    "my_numbers.reverse()\n",
    "print(my_numbers)"
   ]
  },
  {
   "cell_type": "markdown",
   "id": "69255251",
   "metadata": {},
   "source": [
    "# How will you compare two lists?"
   ]
  },
  {
   "cell_type": "code",
   "execution_count": null,
   "id": "ee751ef2",
   "metadata": {},
   "outputs": [],
   "source": []
  },
  {
   "cell_type": "markdown",
   "id": "367150d6",
   "metadata": {},
   "source": [
    "###  How will you remove last object from a list? Suppose list1 is [2, 33, 222, 14, and 25], what is list1 [-1]? "
   ]
  },
  {
   "cell_type": "code",
   "execution_count": 10,
   "id": "9364a001",
   "metadata": {},
   "outputs": [],
   "source": [
    "list1 = [2,33,222,14,25]\n"
   ]
  },
  {
   "cell_type": "code",
   "execution_count": 11,
   "id": "f59742ce",
   "metadata": {},
   "outputs": [],
   "source": [
    "list1.remove(14)"
   ]
  },
  {
   "cell_type": "code",
   "execution_count": 12,
   "id": "fc88102e",
   "metadata": {},
   "outputs": [
    {
     "name": "stdout",
     "output_type": "stream",
     "text": [
      "[2, 33, 222, 25]\n"
     ]
    }
   ],
   "source": [
    "print(list1)"
   ]
  },
  {
   "cell_type": "code",
   "execution_count": null,
   "id": "1618d24c",
   "metadata": {},
   "outputs": [],
   "source": [
    "In list1[-1] is 25"
   ]
  },
  {
   "cell_type": "markdown",
   "id": "9ad2912e",
   "metadata": {},
   "source": [
    "### Differentiate between append () and extend () methods? "
   ]
  },
  {
   "cell_type": "code",
   "execution_count": null,
   "id": "9f0d5d58",
   "metadata": {},
   "outputs": [],
   "source": [
    "#append :\n",
    "#it is the method addition of privious element\n",
    "#this functioninserts single element into an existing list\n",
    "* syntax\n",
    "list.append(item)"
   ]
  },
  {
   "cell_type": "code",
   "execution_count": 14,
   "id": "d271d366",
   "metadata": {},
   "outputs": [],
   "source": [
    "list1 = [1,2,3,4,5]"
   ]
  },
  {
   "cell_type": "code",
   "execution_count": 16,
   "id": "e2079ba0",
   "metadata": {},
   "outputs": [],
   "source": [
    "list1.append(6,)"
   ]
  },
  {
   "cell_type": "code",
   "execution_count": 17,
   "id": "2e91a41a",
   "metadata": {},
   "outputs": [
    {
     "name": "stdout",
     "output_type": "stream",
     "text": [
      "[1, 2, 3, 4, 5, 6]\n"
     ]
    }
   ],
   "source": [
    "print(list1)"
   ]
  },
  {
   "cell_type": "code",
   "execution_count": null,
   "id": "20d164cb",
   "metadata": {},
   "outputs": [],
   "source": [
    "#extend :\n",
    "#the python's list extend()iterates over its argument and adding each element to the list and extending the list.\n",
    "*syntax\n",
    "list.extend(iterable)\n",
    "#iterable are(list,set,tuple,etc.)\n"
   ]
  },
  {
   "cell_type": "code",
   "execution_count": 22,
   "id": "927cb431",
   "metadata": {},
   "outputs": [],
   "source": [
    "list2 = [7,8,9]\n"
   ]
  },
  {
   "cell_type": "code",
   "execution_count": 23,
   "id": "b4d7067a",
   "metadata": {},
   "outputs": [],
   "source": [
    "list3 = [10,11,12,13]"
   ]
  },
  {
   "cell_type": "code",
   "execution_count": 24,
   "id": "dc9f7f37",
   "metadata": {},
   "outputs": [
    {
     "name": "stdout",
     "output_type": "stream",
     "text": [
      "[7, 8, 9, 10, 11, 12, 13]\n"
     ]
    }
   ],
   "source": [
    "list2.extend(list3)\n",
    "print(list2)"
   ]
  },
  {
   "cell_type": "code",
   "execution_count": 25,
   "id": "d5d7c040",
   "metadata": {},
   "outputs": [],
   "source": [
    "x = [1,2,3]"
   ]
  },
  {
   "cell_type": "code",
   "execution_count": 28,
   "id": "01d121e8",
   "metadata": {},
   "outputs": [],
   "source": [
    "y = [4,5,6]"
   ]
  },
  {
   "cell_type": "code",
   "execution_count": 29,
   "id": "f9cb7bb1",
   "metadata": {},
   "outputs": [
    {
     "name": "stdout",
     "output_type": "stream",
     "text": [
      "[1, 2, 3, 4, 5, 6]\n"
     ]
    }
   ],
   "source": [
    "x.extend(y)\n",
    "print(x)"
   ]
  },
  {
   "cell_type": "markdown",
   "id": "5f8c10ed",
   "metadata": {},
   "source": [
    "### Write a Python program to find the second smallest number in a list."
   ]
  },
  {
   "cell_type": "code",
   "execution_count": 11,
   "id": "85701bf9",
   "metadata": {},
   "outputs": [],
   "source": [
    "def sec_num(numbers):\n",
    "    x1 = x2 = float('inf')\n",
    "    for i in numbers:\n",
    "        if i<= x1:\n",
    "            x1,x2=i,x1\n",
    "        elif i<x2:\n",
    "            x2 = i\n",
    "    return x2\n",
    "        \n",
    "        \n",
    "    "
   ]
  },
  {
   "cell_type": "code",
   "execution_count": 12,
   "id": "7a231a25",
   "metadata": {},
   "outputs": [
    {
     "data": {
      "text/plain": [
       "2"
      ]
     },
     "execution_count": 12,
     "metadata": {},
     "output_type": "execute_result"
    }
   ],
   "source": [
    "sec_num([1,2,3,4,8,6,9,10])"
   ]
  },
  {
   "cell_type": "code",
   "execution_count": null,
   "id": "bc09f802",
   "metadata": {},
   "outputs": [],
   "source": []
  },
  {
   "cell_type": "markdown",
   "id": "6ded1b65",
   "metadata": {},
   "source": [
    "### Write a Python program to find the length of a tuple."
   ]
  },
  {
   "cell_type": "code",
   "execution_count": null,
   "id": "61cfffe0",
   "metadata": {},
   "outputs": [],
   "source": [
    "len()"
   ]
  },
  {
   "cell_type": "code",
   "execution_count": 49,
   "id": "fbcbf245",
   "metadata": {},
   "outputs": [
    {
     "name": "stdout",
     "output_type": "stream",
     "text": [
      "2\n"
     ]
    }
   ],
   "source": [
    "tuple =(123, 'xyz')\n",
    "print(len(tuple))"
   ]
  },
  {
   "cell_type": "markdown",
   "id": "86d7bc5d",
   "metadata": {},
   "source": [
    "## Write a Python program to reverse a tuple."
   ]
  },
  {
   "cell_type": "code",
   "execution_count": 54,
   "id": "161ca274",
   "metadata": {},
   "outputs": [],
   "source": [
    "tuples = (1,2,3,4,5,6)\n"
   ]
  },
  {
   "cell_type": "code",
   "execution_count": 64,
   "id": "678ce2c8",
   "metadata": {},
   "outputs": [],
   "source": [
    "def reverse(tuples):\n",
    "    new_tup = tuples[::-1]\n",
    "    return new_tup\n",
    "    "
   ]
  },
  {
   "cell_type": "code",
   "execution_count": 65,
   "id": "b6673a12",
   "metadata": {},
   "outputs": [],
   "source": [
    "tuples = (1,2,4,5,7,9)"
   ]
  },
  {
   "cell_type": "code",
   "execution_count": 66,
   "id": "7770781a",
   "metadata": {},
   "outputs": [
    {
     "name": "stdout",
     "output_type": "stream",
     "text": [
      "(9, 7, 5, 4, 2, 1)\n"
     ]
    }
   ],
   "source": [
    "print(reverse(tuples))"
   ]
  },
  {
   "cell_type": "code",
   "execution_count": 67,
   "id": "082a555e",
   "metadata": {},
   "outputs": [],
   "source": [
    "tuples = [2,3,4,5]"
   ]
  },
  {
   "cell_type": "code",
   "execution_count": 68,
   "id": "59413c3a",
   "metadata": {},
   "outputs": [],
   "source": [
    "tuple = tuples[::-1]"
   ]
  },
  {
   "cell_type": "code",
   "execution_count": 69,
   "id": "9572aaee",
   "metadata": {},
   "outputs": [
    {
     "name": "stdout",
     "output_type": "stream",
     "text": [
      "[5, 4, 3, 2]\n"
     ]
    }
   ],
   "source": [
    "print(reverse(tuples))"
   ]
  },
  {
   "cell_type": "markdown",
   "id": "2a982267",
   "metadata": {},
   "source": [
    "### Write a Python program to remove duplicates from a list. "
   ]
  },
  {
   "cell_type": "code",
   "execution_count": 70,
   "id": "94d4beb8",
   "metadata": {},
   "outputs": [],
   "source": [
    "list = [1,1,2,2,3,4,5]"
   ]
  },
  {
   "cell_type": "code",
   "execution_count": 71,
   "id": "470d545d",
   "metadata": {},
   "outputs": [
    {
     "data": {
      "text/plain": [
       "{1, 2, 3, 4, 5}"
      ]
     },
     "execution_count": 71,
     "metadata": {},
     "output_type": "execute_result"
    }
   ],
   "source": [
    "set(list)"
   ]
  },
  {
   "cell_type": "code",
   "execution_count": null,
   "id": "e868a5d3",
   "metadata": {},
   "outputs": [],
   "source": [
    "#using set() we can avoid repetation"
   ]
  },
  {
   "cell_type": "markdown",
   "id": "2573940b",
   "metadata": {},
   "source": [
    "## Write a Python function that takes a list and returns a new list with unique elements of the first list."
   ]
  },
  {
   "cell_type": "code",
   "execution_count": 12,
   "id": "c035c373",
   "metadata": {},
   "outputs": [
    {
     "name": "stdout",
     "output_type": "stream",
     "text": [
      "original list :  [1, 2, 2, 3, 1, 4, 5, 4, 2]\n",
      "list of unique elements:  [1, 2, 3, 4, 5]\n"
     ]
    }
   ],
   "source": [
    "my_list =  [1,2,2,3,1,4,5,4,2]\n",
    "print(\"original list : \",my_list)\n",
    "my_set = set(my_list)\n",
    "my_new_list = list(my_set)\n",
    "print(\"list of unique elements: \",my_new_list)"
   ]
  },
  {
   "cell_type": "markdown",
   "id": "569027d9",
   "metadata": {},
   "source": [
    "###  Write a Python program to check a list is empty or not. "
   ]
  },
  {
   "cell_type": "code",
   "execution_count": 89,
   "id": "fd71c169",
   "metadata": {},
   "outputs": [
    {
     "name": "stdout",
     "output_type": "stream",
     "text": [
      "the list is empty\n"
     ]
    }
   ],
   "source": [
    "def enquiry(list1):\n",
    "    if not list1:\n",
    "        return 1\n",
    "    else:\n",
    "        return 0\n",
    "    \n",
    "list1 = []\n",
    "if enquiry(list1):\n",
    "    print(\"the list is empty\")\n",
    "else:\n",
    "    print(\"the is not empty\")"
   ]
  },
  {
   "cell_type": "markdown",
   "id": "c64d9e48",
   "metadata": {},
   "source": [
    "### Write a Python function to get the largest number, smallest num and sum of all from a list. "
   ]
  },
  {
   "cell_type": "code",
   "execution_count": 1,
   "id": "155dd0e4",
   "metadata": {},
   "outputs": [
    {
     "name": "stdout",
     "output_type": "stream",
     "text": [
      "min: 1\n",
      "max: 123\n"
     ]
    }
   ],
   "source": [
    "numbers = [3,1,3,5,6,23,123,5]\n",
    "\n",
    "min = numbers[0]\n",
    "max = numbers[0]\n",
    "\n",
    "for i in range(len(numbers)):\n",
    "    if numbers[i] > max:\n",
    "        max = numbers[i]\n",
    "    elif numbers[i] < min:\n",
    "        min = numbers[i]\n",
    "print(\"min:\",min)\n",
    "print(\"max:\",max)"
   ]
  },
  {
   "cell_type": "markdown",
   "id": "80f8354d",
   "metadata": {},
   "source": [
    "### Write a Python program to get unique values from a list "
   ]
  },
  {
   "cell_type": "code",
   "execution_count": 91,
   "id": "c7ab6392",
   "metadata": {},
   "outputs": [],
   "source": [
    "my_list = [10,20,20,10,30,40,50,40,30,20,60]\n"
   ]
  },
  {
   "cell_type": "code",
   "execution_count": 92,
   "id": "e62ee738",
   "metadata": {},
   "outputs": [
    {
     "data": {
      "text/plain": [
       "{10, 20, 30, 40, 50, 60}"
      ]
     },
     "execution_count": 92,
     "metadata": {},
     "output_type": "execute_result"
    }
   ],
   "source": [
    "set(my_list)"
   ]
  },
  {
   "cell_type": "code",
   "execution_count": null,
   "id": "6c2d64b1",
   "metadata": {},
   "outputs": [],
   "source": []
  },
  {
   "cell_type": "markdown",
   "id": "a62c3d8c",
   "metadata": {},
   "source": [
    "### Write a Python program to split a list into different variables."
   ]
  },
  {
   "cell_type": "code",
   "execution_count": 1,
   "id": "25bb05a2",
   "metadata": {},
   "outputs": [
    {
     "name": "stdout",
     "output_type": "stream",
     "text": [
      "('black', '#000000', 'rgb(0,0,0)')\n",
      "('red', '#ff0000', 'rgb(255,0,0)')\n"
     ]
    }
   ],
   "source": [
    "color = [(\"black\", \"#000000\", \"rgb(0,0,0)\"),(\"red\", \"#ff0000\", \"rgb(255,0,0)\")]\n",
    "var1, var2 = color\n",
    "print(var1)\n",
    "print(var2)"
   ]
  },
  {
   "cell_type": "markdown",
   "id": "f85589f9",
   "metadata": {},
   "source": [
    "### Write a Python program to check whether an element exists within a tuple"
   ]
  },
  {
   "cell_type": "code",
   "execution_count": 2,
   "id": "84d3d847",
   "metadata": {},
   "outputs": [
    {
     "name": "stdout",
     "output_type": "stream",
     "text": [
      "True\n",
      "False\n"
     ]
    }
   ],
   "source": [
    "tuples = (\"e\" , \"d\", \"u\", \"o\", \"n\", \"i\", \"x\")\n",
    "print(\"d\" in tuples)\n",
    "print(3 in tuples)"
   ]
  },
  {
   "cell_type": "markdown",
   "id": "f9fdf431",
   "metadata": {},
   "source": [
    "### Write a Python program to convert a list to a tuple. "
   ]
  },
  {
   "cell_type": "code",
   "execution_count": 117,
   "id": "55b39659",
   "metadata": {},
   "outputs": [],
   "source": [
    "my_list = ['spark', 'python', 'pandas', 'machine learning']\n",
    "tuples = (*my_list,)\n",
    "\n",
    "\n"
   ]
  },
  {
   "cell_type": "code",
   "execution_count": 118,
   "id": "30a07c73",
   "metadata": {},
   "outputs": [
    {
     "name": "stdout",
     "output_type": "stream",
     "text": [
      "('spark', 'python', 'pandas', 'machine learning')\n"
     ]
    }
   ],
   "source": [
    "print(tuples)"
   ]
  },
  {
   "cell_type": "code",
   "execution_count": 1,
   "id": "cb9b9c15",
   "metadata": {},
   "outputs": [],
   "source": [
    "my_list = [22, 42, 54, 64]\n",
    "\n"
   ]
  },
  {
   "cell_type": "code",
   "execution_count": 3,
   "id": "5adff846",
   "metadata": {},
   "outputs": [],
   "source": [
    "tuples = (*my_list,)"
   ]
  },
  {
   "cell_type": "code",
   "execution_count": 4,
   "id": "c1f8e9c6",
   "metadata": {},
   "outputs": [
    {
     "name": "stdout",
     "output_type": "stream",
     "text": [
      "(22, 42, 54, 64)\n"
     ]
    }
   ],
   "source": [
    "print(tuples)"
   ]
  },
  {
   "cell_type": "markdown",
   "id": "9b882e05",
   "metadata": {},
   "source": [
    "### Write a Python program to find the repeated items of a tuple."
   ]
  },
  {
   "cell_type": "code",
   "execution_count": 5,
   "id": "9b81129e",
   "metadata": {},
   "outputs": [
    {
     "name": "stdout",
     "output_type": "stream",
     "text": [
      "<class 'tuple'>\n",
      "3\n"
     ]
    }
   ],
   "source": [
    "tuples = (2,4,5,6,2,3,4,4,7)\n",
    "print(tuple)\n",
    "count = tuples.count(4)\n",
    "print(count)"
   ]
  },
  {
   "cell_type": "markdown",
   "id": "a4b253d1",
   "metadata": {},
   "source": [
    "###  Write a Python program to remove an empty tuple(s) from a list of tuples"
   ]
  },
  {
   "cell_type": "code",
   "execution_count": 4,
   "id": "5b573974",
   "metadata": {},
   "outputs": [],
   "source": [
    "def Remove(tuples):\n",
    "    tuples = [t for t in tuples if t]\n",
    "    return tuples"
   ]
  },
  {
   "cell_type": "code",
   "execution_count": 7,
   "id": "6662f772",
   "metadata": {},
   "outputs": [],
   "source": [
    "tuples = [(), ('ram', '15', '8'), (), ('laxman', 'sita'), ('krishna' , 'radha', '99'), ('',''), ()]\n"
   ]
  },
  {
   "cell_type": "code",
   "execution_count": 8,
   "id": "89a36b9b",
   "metadata": {},
   "outputs": [
    {
     "name": "stdout",
     "output_type": "stream",
     "text": [
      "[('ram', '15', '8'), ('laxman', 'sita'), ('krishna', 'radha', '99'), ('', '')]\n"
     ]
    }
   ],
   "source": [
    "print(Remove(tuples))"
   ]
  },
  {
   "cell_type": "markdown",
   "id": "e4b2114c",
   "metadata": {},
   "source": [
    "### Write a Python program to unzip a list of tuples into individual lists. "
   ]
  },
  {
   "cell_type": "code",
   "execution_count": 5,
   "id": "1b624da0",
   "metadata": {},
   "outputs": [],
   "source": [
    "l = [(1,2), (4,5), (6,7)]\n"
   ]
  },
  {
   "cell_type": "code",
   "execution_count": 6,
   "id": "2ac8a891",
   "metadata": {},
   "outputs": [
    {
     "name": "stdout",
     "output_type": "stream",
     "text": [
      "[(1, 4, 6), (2, 5, 7)]\n"
     ]
    }
   ],
   "source": [
    "print(list(zip(*l)))"
   ]
  },
  {
   "cell_type": "markdown",
   "id": "f6c16416",
   "metadata": {},
   "source": [
    "### Write a Python function to check whether a number is in a given range"
   ]
  },
  {
   "cell_type": "code",
   "execution_count": 22,
   "id": "5c2e1e91",
   "metadata": {},
   "outputs": [
    {
     "name": "stdout",
     "output_type": "stream",
     "text": [
      " 5 is in the range\n"
     ]
    }
   ],
   "source": [
    "def test_range(n):\n",
    "    if n in range(3,9):\n",
    "        print(\" %s is in the range\"%str(n))\n",
    "    else:\n",
    "         print(\"the number is outside the given range.\")\n",
    "test_range(5)"
   ]
  },
  {
   "cell_type": "code",
   "execution_count": 23,
   "id": "e5792c58",
   "metadata": {},
   "outputs": [
    {
     "name": "stdout",
     "output_type": "stream",
     "text": [
      "the number is outside the given range.\n"
     ]
    }
   ],
   "source": [
    "test_range(12)"
   ]
  },
  {
   "cell_type": "markdown",
   "id": "ca38d306",
   "metadata": {},
   "source": [
    "### Write a Python function that checks whether a passed string is palindrome or not "
   ]
  },
  {
   "cell_type": "code",
   "execution_count": 4,
   "id": "e20061fb",
   "metadata": {},
   "outputs": [
    {
     "name": "stdout",
     "output_type": "stream",
     "text": [
      "no\n"
     ]
    }
   ],
   "source": [
    "def ispalindrome(s):\n",
    "    return s == s[::-1]\n",
    "\n",
    "s = \"marathi\"\n",
    "ans = ispalindrome(s)\n",
    "if ans :\n",
    "    print(\"yes\")\n",
    "else:\n",
    "    print(\"no\")"
   ]
  },
  {
   "cell_type": "code",
   "execution_count": null,
   "id": "df17a79b",
   "metadata": {},
   "outputs": [],
   "source": []
  },
  {
   "cell_type": "markdown",
   "id": "19e7c4e5",
   "metadata": {},
   "source": [
    "### Write a Python program to returns sum of all divisors of a number "
   ]
  },
  {
   "cell_type": "code",
   "execution_count": 24,
   "id": "5fd0d815",
   "metadata": {},
   "outputs": [
    {
     "name": "stdout",
     "output_type": "stream",
     "text": [
      "3\n",
      "3\n"
     ]
    }
   ],
   "source": [
    "def sum_div(number):\n",
    "    divisors = [1]\n",
    "    for i in range(2, number):\n",
    "        if(number % i)==0:\n",
    "            divisors.append(i)\n",
    "            return sum(divisors)\n",
    "print(sum_div(6))\n",
    "print(sum_div(10))\n"
   ]
  },
  {
   "cell_type": "markdown",
   "id": "e64676e6",
   "metadata": {},
   "source": [
    "### Write a Python program to find the maximum and minimum numbers from the specified decimal numbers. "
   ]
  },
  {
   "cell_type": "code",
   "execution_count": null,
   "id": "119282e9",
   "metadata": {},
   "outputs": [],
   "source": []
  },
  {
   "cell_type": "markdown",
   "id": "afc120de",
   "metadata": {},
   "source": [
    "### Write a Python program to calculate the area of a parallelogram "
   ]
  },
  {
   "cell_type": "code",
   "execution_count": 1,
   "id": "0d4e61b6",
   "metadata": {},
   "outputs": [
    {
     "name": "stdout",
     "output_type": "stream",
     "text": [
      "length of base: 5\n",
      "measurement of height: 6\n",
      "Area is:  30.0\n"
     ]
    }
   ],
   "source": [
    "base = float(input('length of base: '))\n",
    "height = float(input('measurement of height: '))\n",
    "area = base * height\n",
    "print(\"Area is: \", area)"
   ]
  },
  {
   "cell_type": "markdown",
   "id": "23ab496f",
   "metadata": {},
   "source": [
    "### Write a Python function to check whether a number is perfect or not. "
   ]
  },
  {
   "cell_type": "code",
   "execution_count": null,
   "id": "2d7e8da7",
   "metadata": {},
   "outputs": [],
   "source": [
    "n ="
   ]
  },
  {
   "cell_type": "markdown",
   "id": "5e41e219",
   "metadata": {},
   "source": [
    "### Write a Python program to convert degree to radian"
   ]
  },
  {
   "cell_type": "code",
   "execution_count": 2,
   "id": "87fb8406",
   "metadata": {},
   "outputs": [
    {
     "name": "stdout",
     "output_type": "stream",
     "text": [
      "3.142857142857143\n",
      "1.5714285714285714\n"
     ]
    }
   ],
   "source": [
    "pi = 22/7\n",
    "def degrees_to_rads(deg):\n",
    "    return (deg * pi) / 180.0\n",
    "print(degrees_to_rads(180))\n",
    "print(degrees_to_rads(90))"
   ]
  },
  {
   "cell_type": "markdown",
   "id": "368bba70",
   "metadata": {},
   "source": [
    "###  Write a Python program to calculate the area of a trapezoid "
   ]
  },
  {
   "cell_type": "code",
   "execution_count": 4,
   "id": "f5fc9dfb",
   "metadata": {},
   "outputs": [
    {
     "name": "stdout",
     "output_type": "stream",
     "text": [
      "height of the cylinder: 4\n",
      "radian of the cylinder: 6\n",
      "Volume is:  452.57142857142856\n",
      "Surface Area is:  377.1428571428571\n"
     ]
    }
   ],
   "source": [
    "pi = 22/7\n",
    "height = float(input('height of the cylinder: '))\n",
    "radian = float(input('radian of the cylinder: '))\n",
    "volume = pi * radian * radian * height\n",
    "sur_area = ((2*pi*radian) * height) + ((pi*radian**2)*2)\n",
    "print(\"Volume is: \", volume)\n",
    "print(\"Surface Area is: \", sur_area)"
   ]
  },
  {
   "cell_type": "code",
   "execution_count": 3,
   "id": "34ef44e0",
   "metadata": {},
   "outputs": [
    {
     "name": "stdout",
     "output_type": "stream",
     "text": [
      "height of trapezoid: 6\n",
      "base one value: 10\n",
      "base two value: 5\n",
      "Area is: 45.0\n"
     ]
    }
   ],
   "source": [
    "base_1 = 5\n",
    "base_2 = 6\n",
    "height = float(input(\"height of trapezoid: \"))\n",
    "base_1 = float(input('base one value: '))\n",
    "base_2 = float(input('base two value: '))\n",
    "area = ((base_1 + base_2) / 2) * height\n",
    "print(\"Area is:\", area)"
   ]
  },
  {
   "cell_type": "markdown",
   "id": "8bf811b7",
   "metadata": {},
   "source": [
    "## Write a Python program to calculate surface volume and area of a cylinder "
   ]
  },
  {
   "cell_type": "code",
   "execution_count": 2,
   "id": "5013ece6",
   "metadata": {},
   "outputs": [
    {
     "name": "stdout",
     "output_type": "stream",
     "text": [
      "height of cylinder: 4\n",
      "radius of cylinder: 6\n",
      "Volume is:  75.42857142857143\n",
      "Surface Area is:  377.1428571428571\n"
     ]
    }
   ],
   "source": [
    "pi = 22/7\n",
    "height = float(input('height of cylinder: '))\n",
    "radian = float(input('radius of cylinder: '))\n",
    "volume = pi * radian * height\n",
    "sur_area = ((2*pi*radian) * height) + ((pi*radian**2)*2)\n",
    "print(\"Volume is: \", volume)\n",
    "print(\"Surface Area is: \", sur_area)"
   ]
  }
 ],
 "metadata": {
  "kernelspec": {
   "display_name": "Python 3 (ipykernel)",
   "language": "python",
   "name": "python3"
  },
  "language_info": {
   "codemirror_mode": {
    "name": "ipython",
    "version": 3
   },
   "file_extension": ".py",
   "mimetype": "text/x-python",
   "name": "python",
   "nbconvert_exporter": "python",
   "pygments_lexer": "ipython3",
   "version": "3.11.4"
  },
  "vscode": {
   "interpreter": {
    "hash": "5ae58900cfbb8c43ab3495913814b7cf26024f51651a94ce8bf64d6111688e8d"
   }
  }
 },
 "nbformat": 4,
 "nbformat_minor": 5
}
