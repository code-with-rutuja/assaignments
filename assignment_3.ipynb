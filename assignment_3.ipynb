{
 "cells": [
  {
   "cell_type": "markdown",
   "id": "4e96153a",
   "metadata": {},
   "source": [
    "# Python Assignment - 3\n",
    "### Carries - 30 marks"
   ]
  },
  {
   "cell_type": "markdown",
   "id": "b5bc6391",
   "metadata": {},
   "source": [
    "## What is File function in python? What is keywords to create and write file. "
   ]
  },
  {
   "cell_type": "code",
   "execution_count": null,
   "id": "ca9fcb29",
   "metadata": {},
   "outputs": [],
   "source": [
    "#files are nothing butwhich are named locations on disk to stored related information.\n",
    "#python file provides methods and attributes to access and manipulate files.\n",
    "#using file objects, we can read or write any files.\n",
    "\n",
    "#keywords to create and write file:\n",
    "#use file object's write() method to write the data to the file."
   ]
  },
  {
   "cell_type": "markdown",
   "id": "77e6fcc1",
   "metadata": {},
   "source": [
    "#### Create and write a  file"
   ]
  },
  {
   "cell_type": "code",
   "execution_count": null,
   "id": "10cffab9",
   "metadata": {},
   "outputs": [],
   "source": [
    "file_object.write(str1)"
   ]
  },
  {
   "cell_type": "code",
   "execution_count": 8,
   "id": "c906245c",
   "metadata": {},
   "outputs": [],
   "source": [
    "file1 = open('myfile.txt', 'w')\n",
    "l =[\"this is pune \\n\", \"this is mumbai \\n\",\"i'm placed in google\"]\n",
    "s = \"hello \\n\"\n",
    "file1.write(s)\n",
    "file1.writelines(l)\n",
    "file1.close()"
   ]
  },
  {
   "cell_type": "code",
   "execution_count": 9,
   "id": "1f14fb19",
   "metadata": {},
   "outputs": [
    {
     "name": "stdout",
     "output_type": "stream",
     "text": [
      "hello \n",
      "this is pune \n",
      "this is mumbai \n",
      "i'm placed in google\n"
     ]
    }
   ],
   "source": [
    "file1 = open('myfile.txt', 'r')\n",
    "print(file1.read())\n",
    "file1.close()"
   ]
  },
  {
   "cell_type": "markdown",
   "id": "ee678cfd",
   "metadata": {},
   "source": [
    "## Write a Python program to read an entire text file. "
   ]
  },
  {
   "cell_type": "code",
   "execution_count": 13,
   "id": "cdf7ae1a",
   "metadata": {},
   "outputs": [],
   "source": [
    "file = open(\"myfile.txt\",\"r\")\n",
    "print(\"read function: \")\n",
    "print(file.read())\n",
    "print()\n"
   ]
  },
  {
   "cell_type": "markdown",
   "id": "dd46afa5",
   "metadata": {},
   "source": [
    "## Write a Python program to append text to a file and display the text."
   ]
  },
  {
   "cell_type": "code",
   "execution_count": 4,
   "id": "c80ebe1f",
   "metadata": {},
   "outputs": [
    {
     "name": "stdout",
     "output_type": "stream",
     "text": [
      "python assaignments. function exercises\n"
     ]
    }
   ],
   "source": [
    "def file_read(fname):\n",
    "    from itertools import islice\n",
    "    with open(fname, \"w\") as myfile:\n",
    "        myfile.write(\"python assaignments. \")\n",
    "        myfile.write(\"function exercises\")\n",
    "    txt = open(fname)\n",
    "    print(txt.read())\n",
    "file_read('abc.txt')"
   ]
  },
  {
   "cell_type": "markdown",
   "id": "52316493",
   "metadata": {},
   "source": [
    "## Write a Python program to read first n lines of a file. "
   ]
  },
  {
   "cell_type": "code",
   "execution_count": 47,
   "id": "23617604",
   "metadata": {},
   "outputs": [
    {
     "name": "stdout",
     "output_type": "stream",
     "text": [
      "\n",
      "\t\tEnter Lines To Read : 2\n",
      "hello \n",
      "\n",
      "this is pune \n",
      "\n"
     ]
    }
   ],
   "source": [
    "n = int(input(\"\\n\\t\\tEnter Lines To Read : \"))\n",
    "f = open(\"myfile.txt\" , \"r\")\n",
    "for i in range(n):\n",
    "    print(f.readline())"
   ]
  },
  {
   "cell_type": "code",
   "execution_count": 48,
   "id": "69fa0893",
   "metadata": {},
   "outputs": [
    {
     "name": "stdout",
     "output_type": "stream",
     "text": [
      "entern value: 3\n",
      "the following are the first 3 lines of text file: \n",
      " "
     ]
    }
   ],
   "source": [
    "file = \"myfile.txt\"\n",
    "N = int(input(\"entern value: \"))\n",
    "with open(\"myfile.txt\", 'r')as filedata:\n",
    "    file = filedata.readlines()\n",
    "    print(\"the following are the first\",N,\"lines of text file: \")\n",
    "    for textline in (\" \"[:N]):\n",
    "        print(textline, end = '')\n",
    "        filedata.close()"
   ]
  },
  {
   "cell_type": "markdown",
   "id": "45dba4dc",
   "metadata": {},
   "source": [
    "## Write a Python program to read last n lines of a file. "
   ]
  },
  {
   "cell_type": "code",
   "execution_count": 56,
   "id": "d36a72b0",
   "metadata": {},
   "outputs": [
    {
     "name": "stdout",
     "output_type": "stream",
     "text": [
      "enter file name: myfile.txt\n",
      "number of lines: \n",
      "4\n",
      "enter last n lines to read : 2\n",
      "i'm placed in googlethis is pune \n",
      "this is mumbai \n"
     ]
    }
   ],
   "source": [
    "import linecache\n",
    "fname = input(\"enter file name: \")\n",
    "num_lines = 0\n",
    "with open(fname, 'r')as f:\n",
    "    for line in f:\n",
    "        num_lines += 1\n",
    "print(\"number of lines: \")\n",
    "print(num_lines)\n",
    "n = int(input(\"enter last n lines to read : \"))\n",
    "for i in range(num_lines,num_lines-n,-1):\n",
    "         print(linecache.getline(\"myfile.txt\", i),end=\"\")"
   ]
  },
  {
   "cell_type": "markdown",
   "id": "76a74d09",
   "metadata": {},
   "source": [
    "## Write a Python program to read a file line by line and store it into a list"
   ]
  },
  {
   "cell_type": "code",
   "execution_count": 12,
   "id": "3ea8e4e4",
   "metadata": {},
   "outputs": [
    {
     "name": "stdout",
     "output_type": "stream",
     "text": [
      "['hello \\n', 'this is pune \\n', 'this is mumbai \\n', \"i'm placed in google\"]\n"
     ]
    }
   ],
   "source": [
    "def file_read(fname):\n",
    "    with open(fname) as f:\n",
    "        \n",
    "        content_list = f.readlines()\n",
    "        print(content_list)\n",
    "        \n",
    "file_read(\"myfile.txt\")\n"
   ]
  },
  {
   "cell_type": "markdown",
   "id": "589e624c",
   "metadata": {},
   "source": [
    "## Write a Python program to read a file line by line store it into a variable."
   ]
  },
  {
   "cell_type": "code",
   "execution_count": 21,
   "id": "77ee9cec",
   "metadata": {},
   "outputs": [
    {
     "name": "stdout",
     "output_type": "stream",
     "text": [
      "['hello \\n', 'this is pune \\n', 'this is mumbai \\n', \"i'm placed in google\"]\n"
     ]
    }
   ],
   "source": [
    "def file_read(fname):\n",
    "    with open (fname,\"r\")as f:\n",
    "        data=f.readlines()\n",
    "        print(data)\n",
    "file_read('myfile.txt')"
   ]
  },
  {
   "cell_type": "markdown",
   "id": "c5a5e0a9",
   "metadata": {},
   "source": [
    "## Write a Python program to copy the contents of a file to another file. "
   ]
  },
  {
   "cell_type": "code",
   "execution_count": 29,
   "id": "7f297657",
   "metadata": {},
   "outputs": [
    {
     "name": "stdout",
     "output_type": "stream",
     "text": [
      "myfile.txt\n"
     ]
    }
   ],
   "source": [
    "file_to_read = \"myfile.txt\"\n",
    "write_to_file = \"myfile.txt\"\n",
    "\n",
    "file = open(file_to_read,\"r\")\n",
    "data =file.read()\n",
    "file.close()\n",
    "\n",
    "with open(write_to_file, \"a\")as file:\n",
    "    file.write(data)\n",
    "print('myfile.txt')\n",
    "\n"
   ]
  },
  {
   "cell_type": "code",
   "execution_count": 33,
   "id": "83c03c51",
   "metadata": {},
   "outputs": [
    {
     "data": {
      "text/plain": [
       "'abc.py'"
      ]
     },
     "execution_count": 33,
     "metadata": {},
     "output_type": "execute_result"
    }
   ],
   "source": [
    "from shutil import copyfile\n",
    "copyfile('myfile.txt','abc.py')"
   ]
  },
  {
   "cell_type": "markdown",
   "id": "056551f3",
   "metadata": {},
   "source": [
    "## Write python program that user to enter only odd numbers, else will raise an exception"
   ]
  },
  {
   "cell_type": "code",
   "execution_count": null,
   "id": "e2ef3212",
   "metadata": {},
   "outputs": [],
   "source": []
  },
  {
   "cell_type": "markdown",
   "id": "165279e1",
   "metadata": {},
   "source": [
    "## Can one block of except statements handle multiple exception? "
   ]
  },
  {
   "cell_type": "code",
   "execution_count": null,
   "id": "9cc304cc",
   "metadata": {},
   "outputs": [],
   "source": [
    "#yes, one block of except statement handle multiple exception."
   ]
  },
  {
   "cell_type": "markdown",
   "id": "759b2c5f",
   "metadata": {},
   "source": [
    "## Explain Exception handling? What is an Error in Python?\n"
   ]
  },
  {
   "cell_type": "code",
   "execution_count": null,
   "id": "555171f7",
   "metadata": {},
   "outputs": [],
   "source": [
    "#Exceptions: Exceptions are raised when the program is syntactically correct,but the code results in an error.\n",
    "#Error : Errors are the problems that occur in the program due to an illegal operation performed by the user or\n",
    "#        by the default of programmer, which halts the normal flow of the program .\n",
    "# Errors are also termed as bugs or faults.\n"
   ]
  },
  {
   "cell_type": "markdown",
   "id": "503ae851",
   "metadata": {},
   "source": [
    "## Write a Python program to count the number of lines in a text file. "
   ]
  },
  {
   "cell_type": "code",
   "execution_count": 53,
   "id": "7417a56b",
   "metadata": {},
   "outputs": [
    {
     "name": "stdout",
     "output_type": "stream",
     "text": [
      "total number of lines:  4\n"
     ]
    }
   ],
   "source": [
    "with open(r\"myfile.txt\", 'r') as fp:\n",
    "    lines = sum(1 for line in fp)\n",
    "    print('total number of lines: ', lines)"
   ]
  },
  {
   "cell_type": "markdown",
   "id": "7dd706b2",
   "metadata": {},
   "source": [
    "## Write a Python program to write a list to a file. "
   ]
  },
  {
   "cell_type": "code",
   "execution_count": 10,
   "id": "ab86375f",
   "metadata": {},
   "outputs": [
    {
     "name": "stdout",
     "output_type": "stream",
     "text": [
      "this\n",
      "is\n",
      "a\n",
      "tutorialspoint\n",
      "sample\n",
      "file\n",
      "\n"
     ]
    }
   ],
   "source": [
    "inputlist = ['this' , 'is' , 'a' , 'tutorialspoint' , 'sample' , 'file']\n",
    "inputfile = \"listdatafile.txt\"\n",
    "with open(inputfile, 'w')as filedata:\n",
    "    for item in inputlist:\n",
    "        filedata.write(\"%s\\n\" % item)\n",
    "filedata.close()\n",
    "filedata = open(\"listdatafile.txt\")\n",
    "print(filedata.read())\n",
    "    "
   ]
  },
  {
   "cell_type": "markdown",
   "id": "452eb320",
   "metadata": {},
   "source": [
    "# Explain Inheritance in Python with an example?What is init? Or What Is A Constructor In Python? \n",
    "\n"
   ]
  },
  {
   "cell_type": "code",
   "execution_count": null,
   "id": "a15e5f1b",
   "metadata": {},
   "outputs": [],
   "source": [
    "#inheritance relationship defines the classes that inherit from other classes as derived,subclass, or sub-types of classes.\n",
    "#Base class remains to be the source from which a subclass inherits.\n",
    "#for example: we have base of class\"animal\" and the \"lion\" is a derived class. The inheritance will be Lion is an animal.\n",
    "#The_init_method is the python equivalent of the C++ constructor in an object-oriented approach."
   ]
  },
  {
   "cell_type": "code",
   "execution_count": null,
   "id": "59337a03",
   "metadata": {},
   "outputs": [],
   "source": [
    "#python constructor:\n",
    "# In python, a constuctor is a special method that is called when an object is created. The purpose of a python constructor is- \n",
    "#to assign values to the data members within the class when an object is initilized.\n",
    "#The name constructor method is always _init_.\n"
   ]
  },
  {
   "cell_type": "code",
   "execution_count": 26,
   "id": "a77bf26e",
   "metadata": {},
   "outputs": [
    {
     "name": "stdout",
     "output_type": "stream",
     "text": [
      "this is  parametrized constructor\n",
      "hello ruhi\n"
     ]
    }
   ],
   "source": [
    "class Student:\n",
    "    \n",
    "    \n",
    "    def __init__(self,name):\n",
    "        \n",
    "         print(\"this is  parametrized constructor\")\n",
    "    \n",
    "         self.name = name\n",
    "    \n",
    "    def show(self):\n",
    "    \n",
    "         print(\"hello\",self.name)\n",
    "    \n",
    "student = Student(\"ruhi\")\n",
    "\n",
    "student.show()"
   ]
  },
  {
   "cell_type": "markdown",
   "id": "a498a822",
   "metadata": {},
   "source": [
    "# Write a python program to find the longest words."
   ]
  },
  {
   "cell_type": "code",
   "execution_count": 55,
   "id": "2361b7f1",
   "metadata": {},
   "outputs": [
    {
     "name": "stdout",
     "output_type": "stream",
     "text": [
      "['mumbai', 'placed', 'google']\n"
     ]
    }
   ],
   "source": [
    "def longest_word(filename):\n",
    "    with open(filename, 'r')as infile:\n",
    "        words = infile.read().split()\n",
    "    max_len = len(max(words, key = len))\n",
    "    return [word for word in words if len(word) == max_len]\n",
    "\n",
    "print(longest_word('myfile.txt'))"
   ]
  },
  {
   "cell_type": "markdown",
   "id": "cbbc881b",
   "metadata": {},
   "source": [
    "# How to Define a Class in Python? What Is Self? Give An Example Of A Python Class\n",
    ".\n"
   ]
  },
  {
   "cell_type": "code",
   "execution_count": null,
   "id": "2576eaf5",
   "metadata": {},
   "outputs": [],
   "source": [
    "#using the class keyword.\n",
    "#self : it represents the instance of class."
   ]
  },
  {
   "cell_type": "code",
   "execution_count": 40,
   "id": "155014a2",
   "metadata": {},
   "outputs": [
    {
     "name": "stdout",
     "output_type": "stream",
     "text": [
      "john\n",
      "36\n"
     ]
    }
   ],
   "source": [
    "class person:\n",
    "    def __init__(self, name, age):\n",
    "        self.name = name\n",
    "        self.age = age\n",
    "        \n",
    "p1 = person(\"john\", 36)\n",
    "\n",
    "print(p1.name)\n",
    "print(p1.age)"
   ]
  },
  {
   "cell_type": "markdown",
   "id": "f856028b",
   "metadata": {},
   "source": [
    "# Write a Python class named Rectangle constructed by a length and width and a method which will compute the area of a rectangle"
   ]
  },
  {
   "cell_type": "code",
   "execution_count": 37,
   "id": "509ca5ef",
   "metadata": {},
   "outputs": [
    {
     "name": "stdout",
     "output_type": "stream",
     "text": [
      "120\n"
     ]
    }
   ],
   "source": [
    "class rectangle():\n",
    "    def __init__(self, l ,w):\n",
    "        self.length = l\n",
    "        self.width = w\n",
    "        \n",
    "    def rectangle_area(self):\n",
    "        return self.length*self.width\n",
    "    \n",
    "newrectangle = rectangle(10,12)\n",
    "print(newrectangle.rectangle_area())"
   ]
  },
  {
   "cell_type": "markdown",
   "id": "e627277a",
   "metadata": {},
   "source": [
    "## Explain Exception handling? What is an Error in Python? "
   ]
  },
  {
   "cell_type": "code",
   "execution_count": null,
   "id": "f64d868d",
   "metadata": {},
   "outputs": [],
   "source": [
    "#Exceptions: Exceptions are raised when the program is syntactically correct,but the code results in an error.\n",
    "#Error : Errors are the problems that occur in the program due to an illegal operation performed by the user or\n",
    "#        by the default of programmer, which halts the normal flow of the program .\n",
    "# Errors are also termed as bugs or faults.\n"
   ]
  },
  {
   "cell_type": "markdown",
   "id": "bed33f31",
   "metadata": {},
   "source": [
    "## How many except statements can a try-except block have? Name Some built-in exception classes: "
   ]
  },
  {
   "cell_type": "code",
   "execution_count": null,
   "id": "07b1d1b9",
   "metadata": {},
   "outputs": [],
   "source": [
    "# There has to be at least one except statement."
   ]
  },
  {
   "cell_type": "code",
   "execution_count": null,
   "id": "2df30c9e",
   "metadata": {},
   "outputs": [],
   "source": [
    "# ArithmeticException\n",
    "#NullPointExeption\n",
    "#AssertionError\n",
    "#IndexError\n",
    "#AttributeError\n"
   ]
  },
  {
   "cell_type": "markdown",
   "id": "9d89a755",
   "metadata": {},
   "source": [
    "## Write python program that user to enter only odd numbers, else will raise an exception. "
   ]
  },
  {
   "cell_type": "code",
   "execution_count": null,
   "id": "fb017904",
   "metadata": {},
   "outputs": [],
   "source": []
  },
  {
   "cell_type": "markdown",
   "id": "e8497bda",
   "metadata": {},
   "source": [
    "## Write a Python class named Circle constructed by a radius and two methods which will compute the area and the perimeter of a circle "
   ]
  },
  {
   "cell_type": "code",
   "execution_count": 36,
   "id": "2a6c509d",
   "metadata": {},
   "outputs": [
    {
     "name": "stdout",
     "output_type": "stream",
     "text": [
      "200.96\n",
      "50.24\n"
     ]
    }
   ],
   "source": [
    "class circle():\n",
    "    def __init__(self, r):\n",
    "        self.radius = r\n",
    "        \n",
    "    def area(self):\n",
    "        return self.radius**2*3.14\n",
    "    \n",
    "    def perimeter(self):\n",
    "        return 2*self.radius*3.14\n",
    "    \n",
    "newcircle = circle(8)\n",
    "print(newcircle.area())\n",
    "print(newcircle.perimeter())"
   ]
  },
  {
   "cell_type": "markdown",
   "id": "fc384afd",
   "metadata": {},
   "source": [
    "## Explain Inheritance in Python with an example? What is init? Or What Is A Constructor In Python? "
   ]
  },
  {
   "cell_type": "code",
   "execution_count": null,
   "id": "242666cb",
   "metadata": {},
   "outputs": [],
   "source": [
    "#Exceptions: Exceptions are raised when the program is syntactically correct,but the code results in an error.\n",
    "#Error : Errors are the problems that occur in the program due to an illegal operation performed by the user or\n",
    "#        by the default of programmer, which halts the normal flow of the program .\n",
    "# Errors are also termed as bugs or faults.\n"
   ]
  },
  {
   "cell_type": "code",
   "execution_count": null,
   "id": "899d47e1",
   "metadata": {},
   "outputs": [],
   "source": [
    "#python constructor:\n",
    "# In python, a constuctor is a special method that is called when an object is created. The purpose of a python constructor is- \n",
    "#to assign values to the data members within the class when an object is initilized.\n",
    "#The name constructor method is always _init_.\n"
   ]
  },
  {
   "cell_type": "code",
   "execution_count": 30,
   "id": "394c695d",
   "metadata": {},
   "outputs": [
    {
     "name": "stdout",
     "output_type": "stream",
     "text": [
      "this is  parametrized constructor\n",
      "hello ruhi\n"
     ]
    }
   ],
   "source": [
    "class Student:\n",
    "    \n",
    "    \n",
    "    def __init__(self,name):\n",
    "        \n",
    "         print(\"this is  parametrized constructor\")\n",
    "    \n",
    "         self.name = name\n",
    "    \n",
    "    def show(self):\n",
    "    \n",
    "         print(\"hello\",self.name)\n",
    "    \n",
    "student = Student(\"ruhi\")\n",
    "\n",
    "student.show()"
   ]
  },
  {
   "cell_type": "markdown",
   "id": "ca9350b1",
   "metadata": {},
   "source": [
    "## What is Instantiation in terms of OOP terminology?\n",
    "\n"
   ]
  },
  {
   "cell_type": "code",
   "execution_count": null,
   "id": "5d864c6e",
   "metadata": {},
   "outputs": [],
   "source": [
    "# The process of creating a new object for a class using a new keyword."
   ]
  },
  {
   "cell_type": "code",
   "execution_count": null,
   "id": "59d11a69",
   "metadata": {},
   "outputs": [],
   "source": [
    "#The creation of an instance of class."
   ]
  }
 ],
 "metadata": {
  "kernelspec": {
   "display_name": "Python 3 (ipykernel)",
   "language": "python",
   "name": "python3"
  },
  "language_info": {
   "codemirror_mode": {
    "name": "ipython",
    "version": 3
   },
   "file_extension": ".py",
   "mimetype": "text/x-python",
   "name": "python",
   "nbconvert_exporter": "python",
   "pygments_lexer": "ipython3",
   "version": "3.11.4"
  },
  "vscode": {
   "interpreter": {
    "hash": "2043299c89c8cd0b4d1a6f5cf4529bd58e6a4e0fe3181a25e0d328c821cdc5c5"
   }
  }
 },
 "nbformat": 4,
 "nbformat_minor": 5
}
